{
  "nbformat": 4,
  "nbformat_minor": 0,
  "metadata": {
    "colab": {
      "provenance": [],
      "authorship_tag": "ABX9TyOoU+S2Zr7xUi4BZ3Ghif7X",
      "include_colab_link": true
    },
    "kernelspec": {
      "name": "python3",
      "display_name": "Python 3"
    },
    "language_info": {
      "name": "python"
    }
  },
  "cells": [
    {
      "cell_type": "markdown",
      "metadata": {
        "id": "view-in-github",
        "colab_type": "text"
      },
      "source": [
        "<a href=\"https://colab.research.google.com/github/NicoJassan/Clase-1-Algoritmos/blob/main/funicon_MAP.ipynb\" target=\"_parent\"><img src=\"https://colab.research.google.com/assets/colab-badge.svg\" alt=\"Open In Colab\"/></a>"
      ]
    },
    {
      "cell_type": "code",
      "source": [],
      "metadata": {
        "id": "0xgrxfvvvanF"
      },
      "execution_count": null,
      "outputs": []
    },
    {
      "cell_type": "markdown",
      "source": [
        "**$$Funcion MAP y Lambda$$**\n",
        "\n",
        "\n",
        "[Funcion MAP](https://docs.python.org/3/library/functions.html#map)\n",
        "\n",
        "\n",
        "\n"
      ],
      "metadata": {
        "id": "xBsxGCw8vdBc"
      }
    },
    {
      "cell_type": "code",
      "source": [
        "# prompt: dame 5 ejemplos de map\n",
        "\n",
        "# Ejemplo 1: Elevar al cuadrado cada elemento de una lista\n",
        "numbers = [1, 2, 3, 4, 5]\n",
        "squared_numbers = list(map(lambda x: x**2, numbers))\n",
        "print(f\"Ejemplo 1: {squared_numbers}\")\n",
        "\n",
        "# Ejemplo 2: Convertir cadenas a mayúsculas\n",
        "words = [\"hello\", \"world\", \"python\"]\n",
        "uppercase_words = list(map(lambda word: word.upper(), words))\n",
        "print(f\"Ejemplo 2: {uppercase_words}\")\n",
        "\n",
        "# Ejemplo 3: Obtener la longitud de cada cadena en una lista\n",
        "strings = [\"apple\", \"banana\", \"cherry\"]\n",
        "string_lengths = list(map(len, strings))  # Usando len directamente\n",
        "print(f\"Ejemplo 3: {string_lengths}\")\n",
        "\n",
        "\n",
        "# Ejemplo 4: Combinar dos listas elemento a elemento\n",
        "list1 = [1, 2, 3]\n",
        "list2 = [4, 5, 6]\n",
        "combined_list = list(map(lambda x, y: x + y, list1, list2))\n",
        "print(f\"Ejemplo 4: {combined_list}\")\n",
        "\n",
        "# Ejemplo 5: Convertir temperaturas de Celsius a Fahrenheit\n",
        "celsius_temperatures = [0, 10, 20, 30]\n",
        "fahrenheit_temperatures = list(map(lambda c: (9/5)*c + 32, celsius_temperatures))\n",
        "print(f\"Ejemplo 5: {fahrenheit_temperatures}\")\n"
      ],
      "metadata": {
        "colab": {
          "base_uri": "https://localhost:8080/"
        },
        "id": "UxjFiSSi27sC",
        "outputId": "dd2280a2-125a-4304-812a-64c3da7bcb23"
      },
      "execution_count": 4,
      "outputs": [
        {
          "output_type": "stream",
          "name": "stdout",
          "text": [
            "Ejemplo 1: [1, 4, 9, 16, 25]\n",
            "Ejemplo 2: ['HELLO', 'WORLD', 'PYTHON']\n",
            "Ejemplo 3: [5, 6, 6]\n",
            "Ejemplo 4: [5, 7, 9]\n",
            "Ejemplo 5: [32.0, 50.0, 68.0, 86.0]\n"
          ]
        }
      ]
    },
    {
      "cell_type": "code",
      "source": [],
      "metadata": {
        "id": "kkjVR8uq3IjO"
      },
      "execution_count": null,
      "outputs": []
    }
  ]
}